{
 "cells": [
  {
   "cell_type": "code",
   "execution_count": 1,
   "id": "7232cf5b",
   "metadata": {},
   "outputs": [],
   "source": [
    "import logging as lg\n",
    "import os\n",
    "from flask import Flask, request, jsonify\n",
    "from flask.views import MethodView\n",
    "from mysql.connector import *\n",
    "\n",
    "app = Flask(__name__)"
   ]
  },
  {
   "cell_type": "code",
   "execution_count": 2,
   "id": "aef6adb9",
   "metadata": {},
   "outputs": [],
   "source": [
    "class Log:\n",
    "    def __init__(self):\n",
    "        try:\n",
    "            self.logFile = \"CRUD_thru_APIs.log\"\n",
    "\n",
    "            # removing the log file if already exists so as not to congest it.\n",
    "            if os.path.exists(self.logFile):\n",
    "                os.remove(self.logFile)\n",
    "            lg.basicConfig(filename=self.logFile, level=lg.INFO, format=\"%(asctime)s %(levelname)s %(message)s\")\n",
    "\n",
    "            # Adding the StreamHandler to record logs in the console.\n",
    "            self.console_log = lg.StreamHandler()\n",
    "            self.console_log.setLevel(lg.INFO)  # setting level to the console log.\n",
    "            self.format = lg.Formatter(\"%(asctime)s %(message)s\")\n",
    "            self.console_log.setFormatter(self.format)  # defining format for the console log.\n",
    "            lg.getLogger('').addHandler(self.console_log)  # adding handler to the console log.\n",
    "\n",
    "        except Exception as e:\n",
    "            lg.info(e)\n",
    "\n",
    "        else:\n",
    "            lg.info(\"Log Class successfully executed!\")"
   ]
  },
  {
   "cell_type": "code",
   "execution_count": 3,
   "id": "3af771a2",
   "metadata": {},
   "outputs": [],
   "source": [
    "class CrudSQL(MethodView):  # a class to choose the desired database.\n",
    "\n",
    "    def __init__(self):\n",
    "        self.mydb = \"\"\n",
    "        self.cur = \"\"\n",
    "        self.db_name = \"\"\n",
    "\n",
    "    def set_con(self):\n",
    "        if request.method == 'POST':\n",
    "            try:\n",
    "                host = request.json['Host']\n",
    "                user = request.json['User name']\n",
    "                passwd = request.json['Password']\n",
    "                self.mydb = connect(host=host, user=user, passwd=passwd, use_pure=\"True\")  # connection object\n",
    "                lg.info(self.mydb)\n",
    "\n",
    "                self.cur = self.mydb.cursor()\n",
    "\n",
    "            except Exception as e:\n",
    "                lg.error(e)\n",
    "\n",
    "            else:\n",
    "                lg.info(\"So from now on, you'll be interacting with the MySQL database!\")\n",
    "                return jsonify(\"So from now on, you'll be interacting with the MySQL database!\")\n",
    "\n",
    "    def create_db(self):\n",
    "        try:\n",
    "            self.db_name = request.json[\"Database Name\"]  # name of the database to be created.\n",
    "            self.cur.execute(f\"CREATE DATABASE {self.db_name}\")\n",
    "            self.cur.execute(f\"USE {self.db_name}\")\n",
    "\n",
    "        except Exception as e:\n",
    "            print(e)\n",
    "\n",
    "        else:\n",
    "            lg.info(f\"Your MySQL database {self.db_name} is created!\")\n",
    "            return jsonify(f\"Your MySQL database {self.db_name} is created!\")"
   ]
  },
  {
   "cell_type": "code",
   "execution_count": 4,
   "id": "e7d9e612",
   "metadata": {},
   "outputs": [],
   "source": [
    "chooseDB = CrudSQL()\n",
    "app.add_url_rule('/MySQL', view_func=chooseDB.set_con, methods=['POST'])\n",
    "app.add_url_rule('/MySQL/create_database', view_func=chooseDB.create_db, methods=['POST'])"
   ]
  },
  {
   "cell_type": "code",
   "execution_count": null,
   "id": "9cb2d04f",
   "metadata": {},
   "outputs": [
    {
     "name": "stdout",
     "output_type": "stream",
     "text": [
      " * Serving Flask app \"__main__\" (lazy loading)\n",
      " * Environment: production\n",
      "\u001b[31m   WARNING: This is a development server. Do not use it in a production deployment.\u001b[0m\n",
      "\u001b[2m   Use a production WSGI server instead.\u001b[0m\n",
      " * Debug mode: off\n"
     ]
    },
    {
     "name": "stderr",
     "output_type": "stream",
     "text": [
      " * Running on http://127.0.0.1:5000/ (Press CTRL+C to quit)\n",
      "[2022-07-06 14:35:45,946] ERROR in app: Exception on /MySQL/create_database [POST]\n",
      "Traceback (most recent call last):\n",
      "  File \"C:\\Users\\Suryansh Grover\\anaconda3\\lib\\site-packages\\flask\\app.py\", line 2447, in wsgi_app\n",
      "    response = self.full_dispatch_request()\n",
      "  File \"C:\\Users\\Suryansh Grover\\anaconda3\\lib\\site-packages\\flask\\app.py\", line 1953, in full_dispatch_request\n",
      "    return self.finalize_request(rv)\n",
      "  File \"C:\\Users\\Suryansh Grover\\anaconda3\\lib\\site-packages\\flask\\app.py\", line 1968, in finalize_request\n",
      "    response = self.make_response(rv)\n",
      "  File \"C:\\Users\\Suryansh Grover\\anaconda3\\lib\\site-packages\\flask\\app.py\", line 2097, in make_response\n",
      "    raise TypeError(\n",
      "TypeError: The view function did not return a valid response. The function either returned None or ended without a return statement.\n",
      "127.0.0.1 - - [06/Jul/2022 14:35:45] \"POST /MySQL/create_database HTTP/1.1\" 500 -\n"
     ]
    },
    {
     "name": "stdout",
     "output_type": "stream",
     "text": [
      "'Database Name'\n"
     ]
    },
    {
     "name": "stderr",
     "output_type": "stream",
     "text": [
      "[2022-07-06 14:36:02,763] ERROR in app: Exception on /MySQL/create_database [POST]\n",
      "Traceback (most recent call last):\n",
      "  File \"C:\\Users\\Suryansh Grover\\anaconda3\\lib\\site-packages\\flask\\app.py\", line 2447, in wsgi_app\n",
      "    response = self.full_dispatch_request()\n",
      "  File \"C:\\Users\\Suryansh Grover\\anaconda3\\lib\\site-packages\\flask\\app.py\", line 1953, in full_dispatch_request\n",
      "    return self.finalize_request(rv)\n",
      "  File \"C:\\Users\\Suryansh Grover\\anaconda3\\lib\\site-packages\\flask\\app.py\", line 1968, in finalize_request\n",
      "    response = self.make_response(rv)\n",
      "  File \"C:\\Users\\Suryansh Grover\\anaconda3\\lib\\site-packages\\flask\\app.py\", line 2097, in make_response\n",
      "    raise TypeError(\n",
      "TypeError: The view function did not return a valid response. The function either returned None or ended without a return statement.\n",
      "127.0.0.1 - - [06/Jul/2022 14:36:02] \"POST /MySQL/create_database HTTP/1.1\" 500 -\n"
     ]
    },
    {
     "name": "stdout",
     "output_type": "stream",
     "text": [
      "'Database Name'\n"
     ]
    }
   ],
   "source": [
    "app.run()"
   ]
  },
  {
   "cell_type": "code",
   "execution_count": null,
   "id": "9038aef8",
   "metadata": {},
   "outputs": [],
   "source": []
  }
 ],
 "metadata": {
  "kernelspec": {
   "display_name": "Python 3 (ipykernel)",
   "language": "python",
   "name": "python3"
  },
  "language_info": {
   "codemirror_mode": {
    "name": "ipython",
    "version": 3
   },
   "file_extension": ".py",
   "mimetype": "text/x-python",
   "name": "python",
   "nbconvert_exporter": "python",
   "pygments_lexer": "ipython3",
   "version": "3.9.7"
  }
 },
 "nbformat": 4,
 "nbformat_minor": 5
}
