{
 "cells": [
  {
   "cell_type": "code",
   "execution_count": 1,
   "id": "7232cf5b",
   "metadata": {},
   "outputs": [],
   "source": [
    "import logging as lg\n",
    "import os\n",
    "from mysql.connector import *"
   ]
  },
  {
   "cell_type": "code",
   "execution_count": 2,
   "id": "3a624248",
   "metadata": {},
   "outputs": [],
   "source": [
    "from flask import Flask, request, jsonify\n",
    "from flask.views import MethodView"
   ]
  },
  {
   "cell_type": "code",
   "execution_count": 3,
   "id": "973e1bcf",
   "metadata": {},
   "outputs": [],
   "source": [
    "app = Flask(__name__)"
   ]
  },
  {
   "cell_type": "code",
   "execution_count": 4,
   "id": "ef43f97c",
   "metadata": {},
   "outputs": [],
   "source": [
    "class Log:\n",
    "    def __init__(self):\n",
    "        try:\n",
    "            self.logFile = \"CRUD_thru_APIs.log\"\n",
    "\n",
    "            # removing the log file if already exists so as not to congest it.\n",
    "            if os.path.exists(self.logFile):\n",
    "                os.remove(self.logFile)\n",
    "            lg.basicConfig(filename=self.logFile, level=lg.INFO, format=\"%(asctime)s %(levelname)s %(message)s\")\n",
    "\n",
    "            # Adding the StreamHandler to record logs in the console.\n",
    "            self.console_log = lg.StreamHandler()\n",
    "            self.console_log.setLevel(lg.INFO)  # setting level to the console log.\n",
    "            self.format = lg.Formatter(\"%(asctime)s %(message)s\")\n",
    "            self.console_log.setFormatter(self.format)  # defining format for the console log.\n",
    "            lg.getLogger('').addHandler(self.console_log)  # adding handler to the console log.\n",
    "\n",
    "        except Exception as e:\n",
    "            lg.info(e)\n",
    "\n",
    "        else:\n",
    "            lg.info(\"Log Class successfully executed!\")"
   ]
  },
  {
   "cell_type": "code",
   "execution_count": 5,
   "id": "8fed332b",
   "metadata": {},
   "outputs": [
    {
     "name": "stderr",
     "output_type": "stream",
     "text": [
      "2022-07-07 20:56:11,353 Log Class successfully executed!\n"
     ]
    },
    {
     "data": {
      "text/plain": [
       "<__main__.Log at 0x2a5728d4f10>"
      ]
     },
     "execution_count": 5,
     "metadata": {},
     "output_type": "execute_result"
    }
   ],
   "source": [
    "Log()"
   ]
  },
  {
   "cell_type": "code",
   "execution_count": 6,
   "id": "5f6813fd",
   "metadata": {},
   "outputs": [],
   "source": [
    "class CrudSQL(MethodView):  # a class for MySQL CRUD operations.\n",
    "\n",
    "    def __init__(self):\n",
    "        global mydb, cur, db_name\n",
    "\n",
    "    def set_con(self):\n",
    "        if request.method == 'POST':\n",
    "            try:\n",
    "                global mydb, cur, db_name\n",
    "                host = request.json['Host']\n",
    "                user = request.json['User name']\n",
    "                passwd = request.json['Password']\n",
    "                mydb = connect(host=host, user=user, passwd=passwd, use_pure=\"True\")  # connection object\n",
    "                lg.info(mydb)\n",
    "                cur = mydb.cursor()\n",
    "\n",
    "            except Exception as e:\n",
    "                lg.error(e)\n",
    "\n",
    "            else:\n",
    "                lg.info(\"So from now on, you'll be interacting with the MySQL database!\")\n",
    "                return jsonify(\"So from now on, you'll be interacting with the MySQL database!\")\n",
    "\n",
    "    def create_db(self):\n",
    "        if request.method == 'POST':\n",
    "            try:\n",
    "                global mydb, cur, db_name\n",
    "                host = request.json['Host']\n",
    "                user = request.json['User name']\n",
    "                passwd = request.json['Password']\n",
    "                mydb = connect(host=host, user=user, passwd=passwd, use_pure=\"True\")  # connection object\n",
    "                lg.info(mydb)\n",
    "                cur = mydb.cursor()\n",
    "                \n",
    "                db_name = request.json[\"Database Name\"]  # name of the database to be created.\n",
    "\n",
    "\n",
    "                cur.execute(f\"CREATE DATABASE IF IT NOT EXISTS {db_name};\")\n",
    "                cur.execute(f\"USE {db_name};\")\n",
    "\n",
    "                lg.info(f\"Your MySQL database {db_name} is created!\")\n",
    "                return jsonify(f\"Your MySQL database {db_name} is created!\")\n",
    "\n",
    "            except Exception as e:\n",
    "                return jsonify(e)\n",
    "                lg.error(e)"
   ]
  },
  {
   "cell_type": "code",
   "execution_count": 7,
   "id": "dae98dbc",
   "metadata": {},
   "outputs": [],
   "source": [
    "crudSQL = CrudSQL()\n",
    "app.add_url_rule('/MySQL', view_func=crudSQL.set_con, methods=['POST'])\n",
    "app.add_url_rule('/MySQL/create_database', view_func=crudSQL.create_db, methods=['POST'])"
   ]
  },
  {
   "cell_type": "code",
   "execution_count": null,
   "id": "294aeb93",
   "metadata": {},
   "outputs": [
    {
     "name": "stdout",
     "output_type": "stream",
     "text": [
      " * Serving Flask app \"__main__\" (lazy loading)\n",
      " * Environment: production\n",
      "   WARNING: This is a development server. Do not use it in a production deployment.\n",
      "   Use a production WSGI server instead.\n",
      " * Debug mode: off\n"
     ]
    },
    {
     "name": "stderr",
     "output_type": "stream",
     "text": [
      "2022-07-07 20:56:11,503  * Running on http://127.0.0.1:5000/ (Press CTRL+C to quit)\n"
     ]
    }
   ],
   "source": [
    "app.run()"
   ]
  },
  {
   "cell_type": "code",
   "execution_count": 6,
   "id": "23a727c7",
   "metadata": {},
   "outputs": [
    {
     "ename": "FileNotFoundError",
     "evalue": "[WinError 2] The system cannot find the file specified: 'C://Users//Downloads'",
     "output_type": "error",
     "traceback": [
      "\u001b[1;31m---------------------------------------------------------------------------\u001b[0m",
      "\u001b[1;31mFileNotFoundError\u001b[0m                         Traceback (most recent call last)",
      "\u001b[1;32mC:\\Users\\SURYAN~1\\AppData\\Local\\Temp/ipykernel_30236/737321532.py\u001b[0m in \u001b[0;36m<module>\u001b[1;34m\u001b[0m\n\u001b[0;32m      1\u001b[0m \u001b[1;32mimport\u001b[0m \u001b[0mos\u001b[0m\u001b[1;33m\u001b[0m\u001b[1;33m\u001b[0m\u001b[0m\n\u001b[1;32m----> 2\u001b[1;33m \u001b[0mos\u001b[0m\u001b[1;33m.\u001b[0m\u001b[0mchdir\u001b[0m\u001b[1;33m(\u001b[0m\u001b[1;34m\"C://Users//Downloads\"\u001b[0m\u001b[1;33m)\u001b[0m\u001b[1;33m\u001b[0m\u001b[1;33m\u001b[0m\u001b[0m\n\u001b[0m",
      "\u001b[1;31mFileNotFoundError\u001b[0m: [WinError 2] The system cannot find the file specified: 'C://Users//Downloads'"
     ]
    }
   ],
   "source": [
    "import os\n",
    "os.chdir(\"C://Users//Downloads\")"
   ]
  },
  {
   "cell_type": "code",
   "execution_count": 15,
   "id": "3a448e01",
   "metadata": {},
   "outputs": [
    {
     "ename": "SyntaxError",
     "evalue": "(unicode error) 'unicodeescape' codec can't decode bytes in position 2-3: truncated \\UXXXXXXXX escape (Temp/ipykernel_30236/3493113438.py, line 1)",
     "output_type": "error",
     "traceback": [
      "\u001b[1;36m  File \u001b[1;32m\"C:\\Users\\SURYAN~1\\AppData\\Local\\Temp/ipykernel_30236/3493113438.py\"\u001b[1;36m, line \u001b[1;32m1\u001b[0m\n\u001b[1;33m    path = repr(\"\"\"C:\\Users\\Suryansh Grover\\Downloads\\datasets\"\"\")\u001b[0m\n\u001b[1;37m                                                                 ^\u001b[0m\n\u001b[1;31mSyntaxError\u001b[0m\u001b[1;31m:\u001b[0m (unicode error) 'unicodeescape' codec can't decode bytes in position 2-3: truncated \\UXXXXXXXX escape\n"
     ]
    }
   ],
   "source": [
    "path = repr(\"\"\"C:\\Users\\Suryansh Grover\\Downloads\\datasets\"\"\")\n"
   ]
  },
  {
   "cell_type": "code",
   "execution_count": null,
   "id": "3bce5042",
   "metadata": {},
   "outputs": [],
   "source": []
  }
 ],
 "metadata": {
  "kernelspec": {
   "display_name": "Python 3 (ipykernel)",
   "language": "python",
   "name": "python3"
  },
  "language_info": {
   "codemirror_mode": {
    "name": "ipython",
    "version": 3
   },
   "file_extension": ".py",
   "mimetype": "text/x-python",
   "name": "python",
   "nbconvert_exporter": "python",
   "pygments_lexer": "ipython3",
   "version": "3.9.7"
  }
 },
 "nbformat": 4,
 "nbformat_minor": 5
}
